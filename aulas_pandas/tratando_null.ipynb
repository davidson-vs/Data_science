{
 "cells": [
  {
   "cell_type": "markdown",
   "metadata": {},
   "source": [
    "# Tratando dados nulos ou faltantes"
   ]
  },
  {
   "cell_type": "code",
   "execution_count": 2,
   "metadata": {},
   "outputs": [
    {
     "data": {
      "text/plain": [
       "17"
      ]
     },
     "execution_count": 2,
     "metadata": {},
     "output_type": "execute_result"
    }
   ],
   "source": [
    "import pandas as pd\n",
    "\n",
    "dados = pd.read_csv(\"../data/aluguel.csv\", sep = \";\")\n",
    "\n",
    "# trazendo os valores nulos como true e os não nulos como false\n",
    "\n",
    "dados.isnull()\n",
    "\n",
    "# trazendo os valores nulos como false e os não nulos como true\n",
    "\n",
    "dados.notnull()\n",
    "\n",
    "#Observe os valores totais para a diferença de não nulos \n",
    "# dados.info()\n",
    "\n",
    "# pegando apenas os elementos de valores onde Valor == null\n",
    "\n",
    "dados[dados[\"Valor\"].isnull()]\n",
    "\n",
    "#para apagar esses valores\n",
    "a = dados.shape[0]\n",
    "\n",
    "dados.dropna( subset = [\"Valor\"], inplace = True)\n",
    "\n",
    "b = dados.shape[0]\n",
    "\n",
    "a-b\n",
    "\n"
   ]
  },
  {
   "cell_type": "code",
   "execution_count": 12,
   "metadata": {},
   "outputs": [
    {
     "name": "stdout",
     "output_type": "stream",
     "text": [
      "<class 'pandas.core.frame.DataFrame'>\n",
      "Int64Index: 32198 entries, 0 to 32959\n",
      "Data columns (total 9 columns):\n",
      " #   Column      Non-Null Count  Dtype  \n",
      "---  ------      --------------  -----  \n",
      " 0   Tipo        32198 non-null  object \n",
      " 1   Bairro      32198 non-null  object \n",
      " 2   Quartos     32198 non-null  int64  \n",
      " 3   Vagas       32198 non-null  int64  \n",
      " 4   Suites      32198 non-null  int64  \n",
      " 5   Area        32198 non-null  int64  \n",
      " 6   Valor       32198 non-null  float64\n",
      " 7   Condominio  32198 non-null  float64\n",
      " 8   IPTU        32198 non-null  float64\n",
      "dtypes: float64(3), int64(4), object(2)\n",
      "memory usage: 2.5+ MB\n",
      "None\n"
     ]
    }
   ],
   "source": [
    "\n",
    "selecao = (dados[\"Tipo\"] == \"Apartamento\") & (dados['Condominio'].isnull())\n",
    "\n",
    "dados = dados[~selecao]\n",
    "\n",
    "print(dados.info())\n",
    "\n",
    "dados = dados.fillna({\"Condominio\":0, \"IPTU\": 0})\n",
    "dados.info()\n",
    "\n",
    "dados.to_csv('../data/aluguel_residencial.csv', sep=\";\", index= False)"
   ]
  }
 ],
 "metadata": {
  "interpreter": {
   "hash": "11c01ee9b1893cff1ba88941d5b3d55a6998614f6ed3c94c93a9b1b1224f55aa"
  },
  "kernelspec": {
   "display_name": "Python 3.9.6 64-bit",
   "language": "python",
   "name": "python3"
  },
  "language_info": {
   "codemirror_mode": {
    "name": "ipython",
    "version": 3
   },
   "file_extension": ".py",
   "mimetype": "text/x-python",
   "name": "python",
   "nbconvert_exporter": "python",
   "pygments_lexer": "ipython3",
   "version": "3.9.6"
  },
  "orig_nbformat": 4
 },
 "nbformat": 4,
 "nbformat_minor": 2
}
