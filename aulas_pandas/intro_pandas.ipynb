{
 "cells": [
  {
   "cell_type": "markdown",
   "metadata": {},
   "source": [
    "# Aprimoramento sobre o pandas"
   ]
  },
  {
   "cell_type": "code",
   "execution_count": 8,
   "metadata": {},
   "outputs": [
    {
     "name": "stdout",
     "output_type": "stream",
     "text": [
      "Variáveis     Tipos\n",
      "Tipo         object\n",
      "Bairro       object\n",
      "Quartos       int64\n",
      "Vagas         int64\n",
      "Suites        int64\n",
      "Area          int64\n",
      "Valor       float64\n",
      "Condominio  float64\n",
      "IPTU        float64\n"
     ]
    }
   ],
   "source": [
    "import pandas as pd \n",
    "\n",
    "tabela = pd.read_csv(\"../data/aluguel.csv\", sep = \";\")\n",
    "\n",
    "tabela.head()\n",
    "\n",
    "tabela.dtypes\n",
    "\n",
    "frame_tabela  = pd.DataFrame(tabela.dtypes, columns= [\"Tipos\"])\n",
    "\n",
    "frame_tabela.columns.name = \"Variáveis\"\n",
    "\n",
    "print(frame_tabela)"
   ]
  },
  {
   "cell_type": "markdown",
   "metadata": {},
   "source": [
    "## Exportando base de dados\n"
   ]
  },
  {
   "cell_type": "code",
   "execution_count": 9,
   "metadata": {},
   "outputs": [
    {
     "data": {
      "text/plain": [
       "0                  Quitinete\n",
       "1                       Casa\n",
       "2    Conjunto Comercial/Sala\n",
       "3                Apartamento\n",
       "4                Apartamento\n",
       "Name: Tipo, dtype: object"
      ]
     },
     "execution_count": 9,
     "metadata": {},
     "output_type": "execute_result"
    }
   ],
   "source": [
    "tabela.to_csv()"
   ]
  }
 ],
 "metadata": {
  "interpreter": {
   "hash": "11c01ee9b1893cff1ba88941d5b3d55a6998614f6ed3c94c93a9b1b1224f55aa"
  },
  "kernelspec": {
   "display_name": "Python 3.9.6 64-bit",
   "language": "python",
   "name": "python3"
  },
  "language_info": {
   "codemirror_mode": {
    "name": "ipython",
    "version": 3
   },
   "file_extension": ".py",
   "mimetype": "text/x-python",
   "name": "python",
   "nbconvert_exporter": "python",
   "pygments_lexer": "ipython3",
   "version": "3.9.6"
  },
  "orig_nbformat": 4
 },
 "nbformat": 4,
 "nbformat_minor": 2
}
