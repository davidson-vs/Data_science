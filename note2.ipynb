{
 "cells": [
  {
   "cell_type": "markdown",
   "metadata": {},
   "source": [
    "# Analisando uma série maior de dados"
   ]
  },
  {
   "cell_type": "code",
   "execution_count": 21,
   "metadata": {},
   "outputs": [
    {
     "name": "stdout",
     "output_type": "stream",
     "text": [
      "   original_language  total\n",
      "0                 en   4505\n",
      "1                 fr     70\n",
      "2                 es     32\n",
      "3                 zh     27\n",
      "4                 de     27\n",
      "5                 hi     19\n",
      "6                 ja     16\n",
      "7                 it     14\n",
      "8                 cn     12\n",
      "9                 ru     11\n",
      "10                ko     11\n",
      "11                pt      9\n",
      "12                da      7\n",
      "13                sv      5\n",
      "14                nl      4\n",
      "15                fa      4\n",
      "16                th      3\n",
      "17                he      3\n",
      "18                ta      2\n",
      "19                cs      2\n",
      "20                ro      2\n",
      "21                id      2\n",
      "22                ar      2\n",
      "23                vi      1\n",
      "24                sl      1\n",
      "25                ps      1\n",
      "26                no      1\n",
      "27                ky      1\n",
      "28                hu      1\n",
      "29                pl      1\n",
      "30                af      1\n",
      "31                nb      1\n",
      "32                tr      1\n",
      "33                is      1\n",
      "34                xx      1\n",
      "35                te      1\n",
      "36                el      1\n"
     ]
    }
   ],
   "source": [
    "import pandas as pd\n",
    "\n",
    "tmdb = pd.read_csv(\"./data/tmdb_5000_movies.csv\")\n",
    "\n",
    "linguas_frame = tmdb.original_language.value_counts().to_frame().reset_index()\n",
    "linguas_frame.columns = [\"original_language\", \"total\"]\n",
    "print(linguas_frame)"
   ]
  },
  {
   "cell_type": "code",
   "execution_count": 23,
   "metadata": {},
   "outputs": [
    {
     "data": {
      "text/plain": [
       "<seaborn.axisgrid.FacetGrid at 0x21d1b4b4a30>"
      ]
     },
     "execution_count": 23,
     "metadata": {},
     "output_type": "execute_result"
    },
    {
     "data": {
      "image/png": "[encoded data removed]",
      "text/plain": [
       "<Figure size 432x288 with 1 Axes>"
      ]
     },
     "metadata": {
      "needs_background": "light"
     },
     "output_type": "display_data"
    },
    {
     "data": {
      "image/png": "[encoded data removed]",
      "text/plain": [
       "<Figure size 360x360 with 1 Axes>"
      ]
     },
     "metadata": {
      "needs_background": "light"
     },
     "output_type": "display_data"
    }
   ],
   "source": [
    "import seaborn as sns\n",
    "\n",
    "sns.barplot( x = \"original_language\", y = \"total\", data = linguas_frame)\n",
    "\n",
    "# Ou de forma menos trabalhosa:\n",
    "\n",
    "sns.catplot(kind=\"count\", x= \"original_language\", data= tmdb)"
   ]
  },
  {
   "cell_type": "code",
   "execution_count": 22,
   "metadata": {},
   "outputs": [
    {
     "name": "stdout",
     "output_type": "stream",
     "text": [
      "4505 298\n",
      "  linguas  Total\n",
      "0  ingles   4505\n",
      "1  outros    298\n"
     ]
    },
    {
     "data": {
      "text/plain": [
       "<AxesSubplot:xlabel='linguas', ylabel='Total'>"
      ]
     },
     "execution_count": 22,
     "metadata": {},
     "output_type": "execute_result"
    },
    {
     "data": {
      "image/png": "[encoded data removed]",
      "text/plain": [
       "<Figure size 432x288 with 1 Axes>"
      ]
     },
     "metadata": {
      "needs_background": "light"
     },
     "output_type": "display_data"
    }
   ],
   "source": [
    "import pandas as pd\n",
    "import seaborn as sns \n",
    "tmdb = pd.read_csv(\"./data/tmdb_5000_movies.csv\")\n",
    "total_por_lingua = tmdb[\"original_language\"].value_counts()\n",
    "total_geral = total_por_lingua.sum()\n",
    "total_ingles = total_por_lingua.loc[\"en\"].sum()\n",
    "total_resto = total_geral - total_ingles\n",
    "\n",
    "print(total_ingles, total_resto)\n",
    "\n",
    "dados = {\n",
    "    \"linguas\" : [\"ingles\", \"outros\"],\n",
    "    \"Total\": [total_ingles, total_resto]\n",
    "}\n",
    "\n",
    "dados = pd.DataFrame(dados)\n",
    "print(dados)\n",
    "\n",
    "sns.barplot(x = \"linguas\", y = \"Total\", data = dados)"
   ]
  }
 ],
 "metadata": {
  "interpreter": {
   "hash": "11c01ee9b1893cff1ba88941d5b3d55a6998614f6ed3c94c93a9b1b1224f55aa"
  },
  "kernelspec": {
   "display_name": "Python 3.9.6 64-bit",
   "language": "python",
   "name": "python3"
  },
  "language_info": {
   "codemirror_mode": {
    "name": "ipython",
    "version": 3
   },
   "file_extension": ".py",
   "mimetype": "text/x-python",
   "name": "python",
   "nbconvert_exporter": "python",
   "pygments_lexer": "ipython3",
   "version": "3.9.6"
  },
  "orig_nbformat": 4
 },
 "nbformat": 4,
 "nbformat_minor": 2
}
